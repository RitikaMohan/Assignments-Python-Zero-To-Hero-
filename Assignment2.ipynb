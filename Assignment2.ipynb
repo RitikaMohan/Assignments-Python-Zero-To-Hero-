{
  "nbformat": 4,
  "nbformat_minor": 0,
  "metadata": {
    "colab": {
      "name": "Untitled1.ipynb",
      "provenance": [],
      "authorship_tag": "ABX9TyNImjeD8tIAULSHZvx+SBuv",
      "include_colab_link": true
    },
    "kernelspec": {
      "name": "python3",
      "display_name": "Python 3"
    },
    "language_info": {
      "name": "python"
    }
  },
  "cells": [
    {
      "cell_type": "markdown",
      "metadata": {
        "id": "view-in-github",
        "colab_type": "text"
      },
      "source": [
        "<a href=\"https://colab.research.google.com/github/RitikaMohan/Assignments-Python-Zero-To-Hero-/blob/main/Assignment2.ipynb\" target=\"_parent\"><img src=\"https://colab.research.google.com/assets/colab-badge.svg\" alt=\"Open In Colab\"/></a>"
      ]
    },
    {
      "cell_type": "code",
      "metadata": {
        "colab": {
          "base_uri": "https://localhost:8080/"
        },
        "id": "qO_UXqJtupVu",
        "outputId": "f7a7d8d3-e622-4319-e3a0-cbdf81908234"
      },
      "source": [
        "'''\n",
        "Assignment: Take a string input and print the number of occurrences of each character.\n",
        "e.g: If string is \"hello\" then output should be h - 1, e - 1, l - 2, o - 1.\n",
        "'''\n",
        "string=input('Enter a string: ')\n",
        "li=list(string)\n",
        "li2=[]\n",
        "\n",
        "for i in li:\n",
        "  if i not in li2:\n",
        "    li2.append(i)\n",
        "    count=0\n",
        "    for j in range(len(li)):\n",
        "      if i==li[j]:\n",
        "        count+=1\n",
        "    print(i, end=\" - \")\n",
        "    print(count)"
      ],
      "execution_count": 1,
      "outputs": [
        {
          "output_type": "stream",
          "text": [
            "Enter a string: hello\n",
            "h - 1\n",
            "e - 1\n",
            "l - 2\n",
            "o - 1\n"
          ],
          "name": "stdout"
        }
      ]
    }
  ]
}