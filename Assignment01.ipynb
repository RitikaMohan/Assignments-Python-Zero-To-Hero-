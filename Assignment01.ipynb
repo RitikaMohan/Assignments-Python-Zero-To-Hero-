{
  "nbformat": 4,
  "nbformat_minor": 0,
  "metadata": {
    "colab": {
      "name": "Assignment01.ipynb",
      "provenance": [],
      "authorship_tag": "ABX9TyNACXQXEpJuaviM88zcxI3G",
      "include_colab_link": true
    },
    "kernelspec": {
      "name": "python3",
      "display_name": "Python 3"
    },
    "language_info": {
      "name": "python"
    }
  },
  "cells": [
    {
      "cell_type": "markdown",
      "metadata": {
        "id": "view-in-github",
        "colab_type": "text"
      },
      "source": [
        "<a href=\"https://colab.research.google.com/github/RitikaMohan/Assignments-Python-Zero-To-Hero-/blob/main/Assignment01.ipynb\" target=\"_parent\"><img src=\"https://colab.research.google.com/assets/colab-badge.svg\" alt=\"Open In Colab\"/></a>"
      ]
    },
    {
      "cell_type": "code",
      "metadata": {
        "colab": {
          "base_uri": "https://localhost:8080/"
        },
        "id": "FhLwpDG2cluz",
        "outputId": "63f44b67-e79c-4896-d3da-105094440735"
      },
      "source": [
        "#Take two inputs and store in variable x and y. Find result of x to the power y.\n",
        "\n",
        "x=int(input(\"Enter a number x:\" )) \n",
        "y=int(input(\"Enter a number y:\" ))\n",
        "print(\"Result of x to the power y:\", math.pow(x, y) )"
      ],
      "execution_count": 4,
      "outputs": [
        {
          "output_type": "stream",
          "text": [
            "Enter a number x:20\n",
            "Enter a number y:4\n",
            "Result of x to the power y: 160000.0\n"
          ],
          "name": "stdout"
        }
      ]
    },
    {
      "cell_type": "code",
      "metadata": {
        "id": "ZSzac9XceEOG"
      },
      "source": [
        ""
      ],
      "execution_count": null,
      "outputs": []
    }
  ]
}